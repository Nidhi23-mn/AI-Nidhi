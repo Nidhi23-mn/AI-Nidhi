{
  "nbformat": 4,
  "nbformat_minor": 0,
  "metadata": {
    "colab": {
      "provenance": []
    },
    "kernelspec": {
      "name": "python3",
      "display_name": "Python 3"
    },
    "language_info": {
      "name": "python"
    }
  },
  "cells": [
    {
      "cell_type": "markdown",
      "source": [],
      "metadata": {
        "id": "Jr9noPnOOMcC"
      }
    },
    {
      "cell_type": "markdown",
      "source": [
        "PROBLEM-Iris flower Classification"
      ],
      "metadata": {
        "id": "nptHI_R8OSQv"
      }
    },
    {
      "cell_type": "code",
      "source": [
        "# Import necessary libraries\n",
        "import pandas as pd\n",
        "from sklearn.model_selection import train_test_split\n",
        "from sklearn.ensemble import RandomForestClassifier\n",
        "from sklearn.metrics import accuracy_score\n",
        "import matplotlib.pyplot as plt\n",
        "import seaborn as sns\n",
        "\n",
        "# Step 1: Load the dataset (assuming the file is named 'data.csv')\n",
        "df = pd.read_csv('data.csv')\n",
        "\n",
        "# Step 2: Display the first few rows of the dataset\n",
        "print(\"\\nFirst few rows of the dataset:\")\n",
        "print(df)\n",
        "\n",
        "\n",
        "# Step 4: Prepare the features (X) and target (y)\n",
        "X = df.drop('species', axis=1)  # Features (sepal length, sepal width, etc.)\n",
        "y = df['species']  # Target (species)\n",
        "\n",
        "# Step 5: Split the data into training and testing sets (80% training, 20% testing)\n",
        "X_train, X_test, y_train, y_test = train_test_split(X, y, test_size=0.2, random_state=42)\n",
        "\n",
        "# Step 6: Train a Random Forest Classifier\n",
        "clf = RandomForestClassifier(random_state=42)\n",
        "clf.fit(X_train, y_train)\n",
        "\n",
        "# Step 7: Make predictions on the test set\n",
        "y_pred = clf.predict(X_test)\n",
        "\n",
        "# Step 8: Evaluate the model's accuracy\n",
        "accuracy = accuracy_score(y_test, y_pred)\n",
        "print(f\"\\nAccuracy of the Random Forest Classifier: {accuracy * 100:.2f}%\")\n",
        "\n",
        "# Step 9: Feature importance (optional)\n",
        "# Visualizing feature importance to understand which features are important in the model\n",
        "feature_importances = clf.feature_importances_\n",
        "features = X.columns\n",
        "\n",
        "plt.figure(figsize=(10, 6))\n",
        "sns.barplot(x=feature_importances, y=features)\n",
        "plt.title('Feature Importance')\n",
        "plt.show()\n",
        "\n",
        "# Step 10: Predict on a new sample (example data point)\n",
        "sample = [[5.1, 3.5, 1.4, 0.2]]  # Example data point (adjust based on your features)\n",
        "sample_prediction = clf.predict(sample)\n",
        "\n",
        "print(f\"\\nPredicted species for the new sample: {sample_prediction[0]}\")\n"
      ],
      "metadata": {
        "colab": {
          "base_uri": "https://localhost:8080/",
          "height": 1000
        },
        "id": "NkNq8AapOhnE",
        "outputId": "5f982a77-cb08-4cdc-832f-e9bc298129f1"
      },
      "execution_count": 16,
      "outputs": [
        {
          "output_type": "stream",
          "name": "stdout",
          "text": [
            "\n",
            "First few rows of the dataset:\n",
            "    sepal length (cm)  sepal width (cm)  petal length (cm)  petal width (cm)  \\\n",
            "0                 5.1               3.5                1.4               0.2   \n",
            "1                 4.9               3.0                1.4               0.2   \n",
            "2                 4.7               3.2                1.3               0.2   \n",
            "3                 4.6               3.1                1.5               0.2   \n",
            "4                 5.0               3.6                1.4               0.2   \n",
            "5                 7.0               3.2                4.7               1.4   \n",
            "6                 6.4               3.2                4.5               1.5   \n",
            "7                 6.9               3.1                4.9               1.5   \n",
            "8                 5.5               2.3                4.0               1.3   \n",
            "9                 6.5               2.8                4.6               1.5   \n",
            "10                6.3               3.3                6.0               2.5   \n",
            "11                5.8               2.7                5.1               1.9   \n",
            "12                7.1               3.0                5.9               2.1   \n",
            "13                6.3               2.9                5.6               1.8   \n",
            "14                6.5               3.0                5.8               2.2   \n",
            "\n",
            "       species  \n",
            "0       setosa  \n",
            "1       setosa  \n",
            "2       setosa  \n",
            "3       setosa  \n",
            "4       setosa  \n",
            "5   versicolor  \n",
            "6   versicolor  \n",
            "7   versicolor  \n",
            "8   versicolor  \n",
            "9   versicolor  \n",
            "10   virginica  \n",
            "11   virginica  \n",
            "12   virginica  \n",
            "13   virginica  \n",
            "14   virginica  \n",
            "\n",
            "Accuracy of the Random Forest Classifier: 100.00%\n"
          ]
        },
        {
          "output_type": "display_data",
          "data": {
            "text/plain": [
              "<Figure size 1000x600 with 1 Axes>"
            ],
            "image/png": "[encoded data removed]"
          },
          "metadata": {}
        },
        {
          "output_type": "stream",
          "name": "stdout",
          "text": [
            "\n",
            "Predicted species for the new sample: setosa\n"
          ]
        },
        {
          "output_type": "stream",
          "name": "stderr",
          "text": [
            "/usr/local/lib/python3.11/dist-packages/sklearn/utils/validation.py:2739: UserWarning: X does not have valid feature names, but RandomForestClassifier was fitted with feature names\n",
            "  warnings.warn(\n"
          ]
        }
      ]
    }
  ]
}